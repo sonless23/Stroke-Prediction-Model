{
 "cells": [
  {
   "cell_type": "markdown",
   "id": "2415d2cf-aa7f-4f56-b53d-a3a1e25bd5ee",
   "metadata": {},
   "source": [
    "# CLEANING THE DATASET"
   ]
  },
  {
   "cell_type": "code",
   "execution_count": 5,
   "id": "50ae160a-c185-4bf3-8851-fe1398a4e0b5",
   "metadata": {},
   "outputs": [],
   "source": [
    "import pandas as pd\n",
    "import numpy as np\n",
    "from sklearn.preprocessing import OneHotEncoder\n",
    "from scipy.stats import ttest_ind\n",
    "from sklearn.ensemble import RandomForestClassifier\n",
    "from sklearn.model_selection import train_test_split, GridSearchCV, StratifiedKFold, cross_val_score\n",
    "from sklearn.metrics import classification_report, accuracy_score\n",
    "from sklearn.preprocessing import StandardScaler\n",
    "from imblearn.over_sampling import SMOTE\n",
    "from sklearn.pipeline import Pipeline\n",
    "from sklearn.linear_model import LogisticRegression\n",
    "import xgboost as xgb"
   ]
  },
  {
   "cell_type": "code",
   "execution_count": 7,
   "id": "7d8d4350-098a-4c35-b386-322766177160",
   "metadata": {},
   "outputs": [
    {
     "data": {
      "text/plain": [
       "(5110, 12)"
      ]
     },
     "execution_count": 7,
     "metadata": {},
     "output_type": "execute_result"
    }
   ],
   "source": [
    "# load the dataset\n",
    "df=pd.read_csv(r\"C:\\Users\\Admin\\Documents\\Datasets\\New folder\\healthcare-dataset-stroke-data.csv\")\n",
    "df.shape"
   ]
  },
  {
   "cell_type": "code",
   "execution_count": 8,
   "id": "3eb9ba55-2fee-49f2-a92a-2b0efb96ff89",
   "metadata": {},
   "outputs": [
    {
     "data": {
      "text/html": [
       "<div>\n",
       "<style scoped>\n",
       "    .dataframe tbody tr th:only-of-type {\n",
       "        vertical-align: middle;\n",
       "    }\n",
       "\n",
       "    .dataframe tbody tr th {\n",
       "        vertical-align: top;\n",
       "    }\n",
       "\n",
       "    .dataframe thead th {\n",
       "        text-align: right;\n",
       "    }\n",
       "</style>\n",
       "<table border=\"1\" class=\"dataframe\">\n",
       "  <thead>\n",
       "    <tr style=\"text-align: right;\">\n",
       "      <th></th>\n",
       "      <th>id</th>\n",
       "      <th>gender</th>\n",
       "      <th>age</th>\n",
       "      <th>hypertension</th>\n",
       "      <th>heart_disease</th>\n",
       "      <th>ever_married</th>\n",
       "      <th>work_type</th>\n",
       "      <th>Residence_type</th>\n",
       "      <th>avg_glucose_level</th>\n",
       "      <th>bmi</th>\n",
       "      <th>smoking_status</th>\n",
       "      <th>stroke</th>\n",
       "    </tr>\n",
       "  </thead>\n",
       "  <tbody>\n",
       "    <tr>\n",
       "      <th>0</th>\n",
       "      <td>9046</td>\n",
       "      <td>Male</td>\n",
       "      <td>67.0</td>\n",
       "      <td>0</td>\n",
       "      <td>1</td>\n",
       "      <td>Yes</td>\n",
       "      <td>Private</td>\n",
       "      <td>Urban</td>\n",
       "      <td>228.69</td>\n",
       "      <td>36.6</td>\n",
       "      <td>formerly smoked</td>\n",
       "      <td>1</td>\n",
       "    </tr>\n",
       "    <tr>\n",
       "      <th>1</th>\n",
       "      <td>31112</td>\n",
       "      <td>Male</td>\n",
       "      <td>80.0</td>\n",
       "      <td>0</td>\n",
       "      <td>1</td>\n",
       "      <td>Yes</td>\n",
       "      <td>Private</td>\n",
       "      <td>Rural</td>\n",
       "      <td>105.92</td>\n",
       "      <td>32.5</td>\n",
       "      <td>never smoked</td>\n",
       "      <td>1</td>\n",
       "    </tr>\n",
       "    <tr>\n",
       "      <th>2</th>\n",
       "      <td>60182</td>\n",
       "      <td>Female</td>\n",
       "      <td>49.0</td>\n",
       "      <td>0</td>\n",
       "      <td>0</td>\n",
       "      <td>Yes</td>\n",
       "      <td>Private</td>\n",
       "      <td>Urban</td>\n",
       "      <td>171.23</td>\n",
       "      <td>34.4</td>\n",
       "      <td>smokes</td>\n",
       "      <td>1</td>\n",
       "    </tr>\n",
       "    <tr>\n",
       "      <th>3</th>\n",
       "      <td>1665</td>\n",
       "      <td>Female</td>\n",
       "      <td>79.0</td>\n",
       "      <td>1</td>\n",
       "      <td>0</td>\n",
       "      <td>Yes</td>\n",
       "      <td>Self-employed</td>\n",
       "      <td>Rural</td>\n",
       "      <td>174.12</td>\n",
       "      <td>24.0</td>\n",
       "      <td>never smoked</td>\n",
       "      <td>1</td>\n",
       "    </tr>\n",
       "    <tr>\n",
       "      <th>4</th>\n",
       "      <td>56669</td>\n",
       "      <td>Male</td>\n",
       "      <td>81.0</td>\n",
       "      <td>0</td>\n",
       "      <td>0</td>\n",
       "      <td>Yes</td>\n",
       "      <td>Private</td>\n",
       "      <td>Urban</td>\n",
       "      <td>186.21</td>\n",
       "      <td>29.0</td>\n",
       "      <td>formerly smoked</td>\n",
       "      <td>1</td>\n",
       "    </tr>\n",
       "  </tbody>\n",
       "</table>\n",
       "</div>"
      ],
      "text/plain": [
       "      id  gender   age  hypertension  heart_disease ever_married  \\\n",
       "0   9046    Male  67.0             0              1          Yes   \n",
       "1  31112    Male  80.0             0              1          Yes   \n",
       "2  60182  Female  49.0             0              0          Yes   \n",
       "3   1665  Female  79.0             1              0          Yes   \n",
       "4  56669    Male  81.0             0              0          Yes   \n",
       "\n",
       "       work_type Residence_type  avg_glucose_level   bmi   smoking_status  \\\n",
       "0        Private          Urban             228.69  36.6  formerly smoked   \n",
       "1        Private          Rural             105.92  32.5     never smoked   \n",
       "2        Private          Urban             171.23  34.4           smokes   \n",
       "3  Self-employed          Rural             174.12  24.0     never smoked   \n",
       "4        Private          Urban             186.21  29.0  formerly smoked   \n",
       "\n",
       "   stroke  \n",
       "0       1  \n",
       "1       1  \n",
       "2       1  \n",
       "3       1  \n",
       "4       1  "
      ]
     },
     "execution_count": 8,
     "metadata": {},
     "output_type": "execute_result"
    }
   ],
   "source": [
    "# drop rows containing null values\n",
    "df=df.dropna()\n",
    "\n",
    "# remove the one row containing Other in gender column\n",
    "df = df[df['gender'] != 'Other'].reset_index(drop=True)\n",
    "\n",
    "df.head()"
   ]
  },
  {
   "cell_type": "code",
   "execution_count": 9,
   "id": "0df03a11-5b2d-4d81-bdaf-40a79ae9c0e7",
   "metadata": {},
   "outputs": [
    {
     "data": {
      "text/plain": [
       "array(['Private', 'Self-employed', 'Govt_job', 'children', 'Never_worked'],\n",
       "      dtype=object)"
      ]
     },
     "execution_count": 9,
     "metadata": {},
     "output_type": "execute_result"
    }
   ],
   "source": [
    "df['work_type'].unique()"
   ]
  },
  {
   "cell_type": "code",
   "execution_count": 10,
   "id": "8e1aee29-7e77-4091-bb03-5322e767967d",
   "metadata": {},
   "outputs": [
    {
     "data": {
      "text/html": [
       "<div>\n",
       "<style scoped>\n",
       "    .dataframe tbody tr th:only-of-type {\n",
       "        vertical-align: middle;\n",
       "    }\n",
       "\n",
       "    .dataframe tbody tr th {\n",
       "        vertical-align: top;\n",
       "    }\n",
       "\n",
       "    .dataframe thead th {\n",
       "        text-align: right;\n",
       "    }\n",
       "</style>\n",
       "<table border=\"1\" class=\"dataframe\">\n",
       "  <thead>\n",
       "    <tr style=\"text-align: right;\">\n",
       "      <th></th>\n",
       "      <th>id</th>\n",
       "      <th>age</th>\n",
       "      <th>hypertension</th>\n",
       "      <th>heart_disease</th>\n",
       "      <th>avg_glucose_level</th>\n",
       "      <th>bmi</th>\n",
       "      <th>stroke</th>\n",
       "      <th>gender_Female</th>\n",
       "      <th>gender_Male</th>\n",
       "      <th>work_type_Govt_job</th>\n",
       "      <th>...</th>\n",
       "      <th>work_type_Self-employed</th>\n",
       "      <th>work_type_children</th>\n",
       "      <th>Residence_type_Rural</th>\n",
       "      <th>Residence_type_Urban</th>\n",
       "      <th>smoking_status_Unknown</th>\n",
       "      <th>smoking_status_formerly smoked</th>\n",
       "      <th>smoking_status_never smoked</th>\n",
       "      <th>smoking_status_smokes</th>\n",
       "      <th>ever_married_No</th>\n",
       "      <th>ever_married_Yes</th>\n",
       "    </tr>\n",
       "  </thead>\n",
       "  <tbody>\n",
       "    <tr>\n",
       "      <th>0</th>\n",
       "      <td>9046</td>\n",
       "      <td>67.0</td>\n",
       "      <td>0</td>\n",
       "      <td>1</td>\n",
       "      <td>228.69</td>\n",
       "      <td>36.6</td>\n",
       "      <td>1</td>\n",
       "      <td>0.0</td>\n",
       "      <td>1.0</td>\n",
       "      <td>0.0</td>\n",
       "      <td>...</td>\n",
       "      <td>0.0</td>\n",
       "      <td>0.0</td>\n",
       "      <td>0.0</td>\n",
       "      <td>1.0</td>\n",
       "      <td>0.0</td>\n",
       "      <td>1.0</td>\n",
       "      <td>0.0</td>\n",
       "      <td>0.0</td>\n",
       "      <td>0.0</td>\n",
       "      <td>1.0</td>\n",
       "    </tr>\n",
       "    <tr>\n",
       "      <th>1</th>\n",
       "      <td>31112</td>\n",
       "      <td>80.0</td>\n",
       "      <td>0</td>\n",
       "      <td>1</td>\n",
       "      <td>105.92</td>\n",
       "      <td>32.5</td>\n",
       "      <td>1</td>\n",
       "      <td>0.0</td>\n",
       "      <td>1.0</td>\n",
       "      <td>0.0</td>\n",
       "      <td>...</td>\n",
       "      <td>0.0</td>\n",
       "      <td>0.0</td>\n",
       "      <td>1.0</td>\n",
       "      <td>0.0</td>\n",
       "      <td>0.0</td>\n",
       "      <td>0.0</td>\n",
       "      <td>1.0</td>\n",
       "      <td>0.0</td>\n",
       "      <td>0.0</td>\n",
       "      <td>1.0</td>\n",
       "    </tr>\n",
       "    <tr>\n",
       "      <th>2</th>\n",
       "      <td>60182</td>\n",
       "      <td>49.0</td>\n",
       "      <td>0</td>\n",
       "      <td>0</td>\n",
       "      <td>171.23</td>\n",
       "      <td>34.4</td>\n",
       "      <td>1</td>\n",
       "      <td>1.0</td>\n",
       "      <td>0.0</td>\n",
       "      <td>0.0</td>\n",
       "      <td>...</td>\n",
       "      <td>0.0</td>\n",
       "      <td>0.0</td>\n",
       "      <td>0.0</td>\n",
       "      <td>1.0</td>\n",
       "      <td>0.0</td>\n",
       "      <td>0.0</td>\n",
       "      <td>0.0</td>\n",
       "      <td>1.0</td>\n",
       "      <td>0.0</td>\n",
       "      <td>1.0</td>\n",
       "    </tr>\n",
       "    <tr>\n",
       "      <th>3</th>\n",
       "      <td>1665</td>\n",
       "      <td>79.0</td>\n",
       "      <td>1</td>\n",
       "      <td>0</td>\n",
       "      <td>174.12</td>\n",
       "      <td>24.0</td>\n",
       "      <td>1</td>\n",
       "      <td>1.0</td>\n",
       "      <td>0.0</td>\n",
       "      <td>0.0</td>\n",
       "      <td>...</td>\n",
       "      <td>1.0</td>\n",
       "      <td>0.0</td>\n",
       "      <td>1.0</td>\n",
       "      <td>0.0</td>\n",
       "      <td>0.0</td>\n",
       "      <td>0.0</td>\n",
       "      <td>1.0</td>\n",
       "      <td>0.0</td>\n",
       "      <td>0.0</td>\n",
       "      <td>1.0</td>\n",
       "    </tr>\n",
       "    <tr>\n",
       "      <th>4</th>\n",
       "      <td>56669</td>\n",
       "      <td>81.0</td>\n",
       "      <td>0</td>\n",
       "      <td>0</td>\n",
       "      <td>186.21</td>\n",
       "      <td>29.0</td>\n",
       "      <td>1</td>\n",
       "      <td>0.0</td>\n",
       "      <td>1.0</td>\n",
       "      <td>0.0</td>\n",
       "      <td>...</td>\n",
       "      <td>0.0</td>\n",
       "      <td>0.0</td>\n",
       "      <td>0.0</td>\n",
       "      <td>1.0</td>\n",
       "      <td>0.0</td>\n",
       "      <td>1.0</td>\n",
       "      <td>0.0</td>\n",
       "      <td>0.0</td>\n",
       "      <td>0.0</td>\n",
       "      <td>1.0</td>\n",
       "    </tr>\n",
       "  </tbody>\n",
       "</table>\n",
       "<p>5 rows × 22 columns</p>\n",
       "</div>"
      ],
      "text/plain": [
       "      id   age  hypertension  heart_disease  avg_glucose_level   bmi  stroke  \\\n",
       "0   9046  67.0             0              1             228.69  36.6       1   \n",
       "1  31112  80.0             0              1             105.92  32.5       1   \n",
       "2  60182  49.0             0              0             171.23  34.4       1   \n",
       "3   1665  79.0             1              0             174.12  24.0       1   \n",
       "4  56669  81.0             0              0             186.21  29.0       1   \n",
       "\n",
       "   gender_Female  gender_Male  work_type_Govt_job  ...  \\\n",
       "0            0.0          1.0                 0.0  ...   \n",
       "1            0.0          1.0                 0.0  ...   \n",
       "2            1.0          0.0                 0.0  ...   \n",
       "3            1.0          0.0                 0.0  ...   \n",
       "4            0.0          1.0                 0.0  ...   \n",
       "\n",
       "   work_type_Self-employed  work_type_children  Residence_type_Rural  \\\n",
       "0                      0.0                 0.0                   0.0   \n",
       "1                      0.0                 0.0                   1.0   \n",
       "2                      0.0                 0.0                   0.0   \n",
       "3                      1.0                 0.0                   1.0   \n",
       "4                      0.0                 0.0                   0.0   \n",
       "\n",
       "   Residence_type_Urban  smoking_status_Unknown  \\\n",
       "0                   1.0                     0.0   \n",
       "1                   0.0                     0.0   \n",
       "2                   1.0                     0.0   \n",
       "3                   0.0                     0.0   \n",
       "4                   1.0                     0.0   \n",
       "\n",
       "   smoking_status_formerly smoked  smoking_status_never smoked  \\\n",
       "0                             1.0                          0.0   \n",
       "1                             0.0                          1.0   \n",
       "2                             0.0                          0.0   \n",
       "3                             0.0                          1.0   \n",
       "4                             1.0                          0.0   \n",
       "\n",
       "   smoking_status_smokes  ever_married_No  ever_married_Yes  \n",
       "0                    0.0              0.0               1.0  \n",
       "1                    0.0              0.0               1.0  \n",
       "2                    1.0              0.0               1.0  \n",
       "3                    0.0              0.0               1.0  \n",
       "4                    0.0              0.0               1.0  \n",
       "\n",
       "[5 rows x 22 columns]"
      ]
     },
     "execution_count": 10,
     "metadata": {},
     "output_type": "execute_result"
    }
   ],
   "source": [
    "# Create the encoder\n",
    "encoder = OneHotEncoder(sparse_output=False)\n",
    "\n",
    "# Fit and transform\n",
    "encoded_array = encoder.fit_transform(df[['gender','work_type','Residence_type','smoking_status','ever_married']])\n",
    "\n",
    "# convert to dataframe\n",
    "encoded_df = pd.DataFrame(encoded_array, columns=encoder.get_feature_names_out(['gender','work_type','Residence_type','smoking_status', 'ever_married']))\n",
    "\n",
    "# merge encoded_df to original df\n",
    "merged_df = pd.concat([df.drop(columns=['gender','work_type','Residence_type','smoking_status', 'ever_married']), encoded_df], axis=1)\n",
    "\n",
    "merged_df.head()\n",
    "\n"
   ]
  },
  {
   "cell_type": "markdown",
   "id": "05d60e00-45e5-4a0b-8a2a-5770e0c4fc71",
   "metadata": {},
   "source": [
    "# EXPLORATORY DATA(STATISTICAL) ANALYSIS"
   ]
  },
  {
   "cell_type": "code",
   "execution_count": 11,
   "id": "3153ff4c-6139-408a-9890-18e3205fdcc3",
   "metadata": {},
   "outputs": [
    {
     "name": "stdout",
     "output_type": "stream",
     "text": [
      "Mean age (target=0): 41.76\n",
      "Mean age (target=1): 67.71\n",
      "P-value: 0.0000\n"
     ]
    }
   ],
   "source": [
    "# check if age significantly affects incidence of stroke \n",
    "\n",
    "group_0 = merged_df['age'][merged_df['stroke'] == 0]\n",
    "group_1 = merged_df['age'][merged_df['stroke'] == 1]\n",
    "\n",
    "\n",
    "mean_age_0 = group_0.mean()\n",
    "mean_age_1 = group_1.mean()\n",
    "\n",
    "# Perform independent t-test\n",
    "t_stat, p_value = ttest_ind(group_0, group_1, equal_var=False)  # Welch’s t-test\n",
    "\n",
    "print(f\"Mean age (target=0): {mean_age_0:.2f}\")\n",
    "print(f\"Mean age (target=1): {mean_age_1:.2f}\")\n",
    "print(f\"P-value: {p_value:.4f}\")\n"
   ]
  },
  {
   "cell_type": "code",
   "execution_count": 12,
   "id": "7b255be4-231f-4156-b199-2289be81aabb",
   "metadata": {},
   "outputs": [
    {
     "name": "stdout",
     "output_type": "stream",
     "text": [
      "Mean glu (target=0): 104.00\n",
      "Mean glu (target=1): 134.57\n",
      "P-value: 0.0000\n"
     ]
    }
   ],
   "source": [
    "# check if average glucose level significantly affects the incidence of stroke\n",
    "\n",
    "group_0 = merged_df['avg_glucose_level'][merged_df['stroke'] == 0]\n",
    "group_1 = merged_df['avg_glucose_level'][merged_df['stroke'] == 1]\n",
    "\n",
    "\n",
    "mean_glu_0 = group_0.mean()\n",
    "mean_glu_1 = group_1.mean()\n",
    "\n",
    "# Perform independent t-test\n",
    "t_stat, p_value = ttest_ind(group_0, group_1, equal_var=False)  # Welch’s t-test\n",
    "\n",
    "print(f\"Mean glu (target=0): {mean_glu_0:.2f}\")\n",
    "print(f\"Mean glu (target=1): {mean_glu_1:.2f}\")\n",
    "print(f\"P-value: {p_value:.4f}\")\n"
   ]
  },
  {
   "cell_type": "code",
   "execution_count": 13,
   "id": "a7e15722-6be3-46e5-a61f-ba45242cbaa3",
   "metadata": {},
   "outputs": [
    {
     "name": "stdout",
     "output_type": "stream",
     "text": [
      "Mean bmi (target=0): 28.82\n",
      "Mean bmi (target=1): 30.47\n",
      "P-value: 0.0003\n"
     ]
    }
   ],
   "source": [
    "# check if bmi significantly affects the incidence of stroke\n",
    "\n",
    "group_0 = merged_df['bmi'][merged_df['stroke'] == 0]\n",
    "group_1 = merged_df['bmi'][merged_df['stroke'] == 1]\n",
    "\n",
    "\n",
    "mean_bmi_0 = group_0.mean()\n",
    "mean_bmi_1 = group_1.mean()\n",
    "\n",
    "# Perform independent t-test\n",
    "t_stat, p_value = ttest_ind(group_0, group_1, equal_var=False)  # Welch’s t-test\n",
    "\n",
    "print(f\"Mean bmi (target=0): {mean_bmi_0:.2f}\")\n",
    "print(f\"Mean bmi (target=1): {mean_bmi_1:.2f}\")\n",
    "print(f\"P-value: {p_value:.4f}\")\n"
   ]
  },
  {
   "cell_type": "markdown",
   "id": "5499f992-0669-4782-ab5d-441dbc2b783b",
   "metadata": {},
   "source": [
    "# MODEL SELECTION AND TRAINING"
   ]
  },
  {
   "cell_type": "code",
   "execution_count": 22,
   "id": "60f615ec-ab8c-45a1-b49c-a4be69b31f30",
   "metadata": {},
   "outputs": [],
   "source": [
    "# select the needed columns and target variable\n",
    "\n",
    "x = merged_df.drop(columns=['id','stroke'])\n",
    "y = merged_df['stroke']"
   ]
  },
  {
   "cell_type": "code",
   "execution_count": 23,
   "id": "5df953f6-a32f-45ea-a53b-5e3fa6f2f2cf",
   "metadata": {},
   "outputs": [],
   "source": [
    "# scale, split and fit the model\n",
    "\n",
    "scaler = StandardScaler()\n",
    "x_norm = scaler.fit_transform(x)\n",
    "x_train, x_test, y_train, y_test = train_test_split(x_norm,y,stratify=y,random_state=42,test_size=0.2)\n",
    "LR = LogisticRegression().fit(x_train, y_train)"
   ]
  },
  {
   "cell_type": "code",
   "execution_count": 24,
   "id": "8930bb40-edae-4ec6-8343-101bc5859685",
   "metadata": {},
   "outputs": [],
   "source": [
    "# predict using test set data\n",
    "\n",
    "y_pred = LR.predict(x_test)\n",
    "\n",
    "# use a lower threshold probability (0.05 in this case) to predict the incidence of stroke\n",
    "y_pred_prob = LR.predict_proba(x_test)\n",
    "y_pred_prob_custom=y_pred_prob[:,1]\n",
    "\n",
    "custom=(y_pred_prob_custom>0.05).astype(int)"
   ]
  },
  {
   "cell_type": "markdown",
   "id": "1ff2c3e3-aadf-41bd-8a48-99e5fc5358c1",
   "metadata": {},
   "source": [
    "# MODEL EVALUATION"
   ]
  },
  {
   "cell_type": "code",
   "execution_count": 25,
   "id": "b2330300-1d13-4285-ae83-49d6f3e48aef",
   "metadata": {},
   "outputs": [],
   "source": [
    "# I've encountered a classic case of class imbalance where the positive class (stroke being present in this case) is rare but critical\n",
    "# the model is biased towards the negative class because they dominate the dataset\n",
    "# so it predicts everything as negative and so has a high accuracy\n",
    "# but very low or zero positive precision or recall\n",
    "# and is therefore not useful\n",
    "# to solve this i considered adding the class_weight='balanced' option on randomforest\n",
    "# i also considered using SMOTE teching to oversample the minority class(1)\n",
    "# i also considered changing to a logistic regression model and increasing the threshold probability for predicing a zero\n",
    "# i also considered using xgboost"
   ]
  },
  {
   "cell_type": "code",
   "execution_count": 26,
   "id": "bf91712c-edac-4361-8edd-701adc8e690c",
   "metadata": {},
   "outputs": [
    {
     "name": "stdout",
     "output_type": "stream",
     "text": [
      "              precision    recall  f1-score   support\n",
      "\n",
      "           0       0.98      0.77      0.86       940\n",
      "           1       0.11      0.62      0.19        42\n",
      "\n",
      "    accuracy                           0.77       982\n",
      "   macro avg       0.54      0.70      0.52       982\n",
      "weighted avg       0.94      0.77      0.83       982\n",
      "\n"
     ]
    }
   ],
   "source": [
    "# evaluate the model's prediction\n",
    "print(classification_report(y_test,custom))"
   ]
  },
  {
   "cell_type": "code",
   "execution_count": null,
   "id": "64e6ca7e-f266-42b6-b4f7-d9817df3323a",
   "metadata": {},
   "outputs": [],
   "source": [
    "# future considerations would include getting more data and maybbe features too using domain knowledge"
   ]
  }
 ],
 "metadata": {
  "kernelspec": {
   "display_name": "Python 3 (ipykernel)",
   "language": "python",
   "name": "python3"
  },
  "language_info": {
   "codemirror_mode": {
    "name": "ipython",
    "version": 3
   },
   "file_extension": ".py",
   "mimetype": "text/x-python",
   "name": "python",
   "nbconvert_exporter": "python",
   "pygments_lexer": "ipython3",
   "version": "3.12.7"
  }
 },
 "nbformat": 4,
 "nbformat_minor": 5
}
